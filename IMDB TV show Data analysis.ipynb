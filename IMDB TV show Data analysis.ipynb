{
 "cells": [
  {
   "cell_type": "code",
   "execution_count": 1,
   "id": "87c68c6f",
   "metadata": {},
   "outputs": [],
   "source": [
    "import numpy as np \n",
    "import pandas as pd\n",
    "import seaborn as sns\n",
    "import matplotlib as mpl\n",
    "import matplotlib.pyplot as plt"
   ]
  },
  {
   "cell_type": "markdown",
   "id": "10931f80",
   "metadata": {},
   "source": [
    "1.Reading the csv file"
   ]
  },
  {
   "cell_type": "code",
   "execution_count": 2,
   "id": "f681470e",
   "metadata": {},
   "outputs": [],
   "source": [
    "show_df = pd.read_csv('imdb_top_250_series_episode_ratings.csv')"
   ]
  },
  {
   "cell_type": "code",
   "execution_count": 3,
   "id": "f3cfcfb7",
   "metadata": {
    "scrolled": true
   },
   "outputs": [
    {
     "data": {
      "text/html": [
       "<div>\n",
       "<style scoped>\n",
       "    .dataframe tbody tr th:only-of-type {\n",
       "        vertical-align: middle;\n",
       "    }\n",
       "\n",
       "    .dataframe tbody tr th {\n",
       "        vertical-align: top;\n",
       "    }\n",
       "\n",
       "    .dataframe thead th {\n",
       "        text-align: right;\n",
       "    }\n",
       "</style>\n",
       "<table border=\"1\" class=\"dataframe\">\n",
       "  <thead>\n",
       "    <tr style=\"text-align: right;\">\n",
       "      <th></th>\n",
       "      <th>Unnamed: 0</th>\n",
       "      <th>Season</th>\n",
       "      <th>Episode</th>\n",
       "      <th>Rating</th>\n",
       "      <th>Code</th>\n",
       "      <th>Title</th>\n",
       "    </tr>\n",
       "  </thead>\n",
       "  <tbody>\n",
       "    <tr>\n",
       "      <th>0</th>\n",
       "      <td>0</td>\n",
       "      <td>1</td>\n",
       "      <td>1</td>\n",
       "      <td>9.4</td>\n",
       "      <td>tt5491994</td>\n",
       "      <td>Planet Earth II</td>\n",
       "    </tr>\n",
       "    <tr>\n",
       "      <th>1</th>\n",
       "      <td>1</td>\n",
       "      <td>1</td>\n",
       "      <td>2</td>\n",
       "      <td>9.1</td>\n",
       "      <td>tt5491994</td>\n",
       "      <td>Planet Earth II</td>\n",
       "    </tr>\n",
       "    <tr>\n",
       "      <th>2</th>\n",
       "      <td>2</td>\n",
       "      <td>1</td>\n",
       "      <td>3</td>\n",
       "      <td>8.9</td>\n",
       "      <td>tt5491994</td>\n",
       "      <td>Planet Earth II</td>\n",
       "    </tr>\n",
       "    <tr>\n",
       "      <th>3</th>\n",
       "      <td>3</td>\n",
       "      <td>1</td>\n",
       "      <td>4</td>\n",
       "      <td>8.8</td>\n",
       "      <td>tt5491994</td>\n",
       "      <td>Planet Earth II</td>\n",
       "    </tr>\n",
       "    <tr>\n",
       "      <th>4</th>\n",
       "      <td>4</td>\n",
       "      <td>1</td>\n",
       "      <td>5</td>\n",
       "      <td>8.6</td>\n",
       "      <td>tt5491994</td>\n",
       "      <td>Planet Earth II</td>\n",
       "    </tr>\n",
       "    <tr>\n",
       "      <th>...</th>\n",
       "      <td>...</td>\n",
       "      <td>...</td>\n",
       "      <td>...</td>\n",
       "      <td>...</td>\n",
       "      <td>...</td>\n",
       "      <td>...</td>\n",
       "    </tr>\n",
       "    <tr>\n",
       "      <th>15113</th>\n",
       "      <td>176</td>\n",
       "      <td>6</td>\n",
       "      <td>23</td>\n",
       "      <td>8.2</td>\n",
       "      <td>tt0043208</td>\n",
       "      <td>I Love Lucy</td>\n",
       "    </tr>\n",
       "    <tr>\n",
       "      <th>15114</th>\n",
       "      <td>177</td>\n",
       "      <td>6</td>\n",
       "      <td>24</td>\n",
       "      <td>8.8</td>\n",
       "      <td>tt0043208</td>\n",
       "      <td>I Love Lucy</td>\n",
       "    </tr>\n",
       "    <tr>\n",
       "      <th>15115</th>\n",
       "      <td>178</td>\n",
       "      <td>6</td>\n",
       "      <td>25</td>\n",
       "      <td>8.4</td>\n",
       "      <td>tt0043208</td>\n",
       "      <td>I Love Lucy</td>\n",
       "    </tr>\n",
       "    <tr>\n",
       "      <th>15116</th>\n",
       "      <td>179</td>\n",
       "      <td>6</td>\n",
       "      <td>26</td>\n",
       "      <td>8.5</td>\n",
       "      <td>tt0043208</td>\n",
       "      <td>I Love Lucy</td>\n",
       "    </tr>\n",
       "    <tr>\n",
       "      <th>15117</th>\n",
       "      <td>180</td>\n",
       "      <td>6</td>\n",
       "      <td>27</td>\n",
       "      <td>7.9</td>\n",
       "      <td>tt0043208</td>\n",
       "      <td>I Love Lucy</td>\n",
       "    </tr>\n",
       "  </tbody>\n",
       "</table>\n",
       "<p>15118 rows × 6 columns</p>\n",
       "</div>"
      ],
      "text/plain": [
       "       Unnamed: 0  Season  Episode  Rating       Code            Title\n",
       "0               0       1        1     9.4  tt5491994  Planet Earth II\n",
       "1               1       1        2     9.1  tt5491994  Planet Earth II\n",
       "2               2       1        3     8.9  tt5491994  Planet Earth II\n",
       "3               3       1        4     8.8  tt5491994  Planet Earth II\n",
       "4               4       1        5     8.6  tt5491994  Planet Earth II\n",
       "...           ...     ...      ...     ...        ...              ...\n",
       "15113         176       6       23     8.2  tt0043208      I Love Lucy\n",
       "15114         177       6       24     8.8  tt0043208      I Love Lucy\n",
       "15115         178       6       25     8.4  tt0043208      I Love Lucy\n",
       "15116         179       6       26     8.5  tt0043208      I Love Lucy\n",
       "15117         180       6       27     7.9  tt0043208      I Love Lucy\n",
       "\n",
       "[15118 rows x 6 columns]"
      ]
     },
     "execution_count": 3,
     "metadata": {},
     "output_type": "execute_result"
    }
   ],
   "source": [
    "show_df"
   ]
  },
  {
   "cell_type": "code",
   "execution_count": 22,
   "id": "29cb074b",
   "metadata": {},
   "outputs": [
    {
     "data": {
      "text/html": [
       "<div>\n",
       "<style scoped>\n",
       "    .dataframe tbody tr th:only-of-type {\n",
       "        vertical-align: middle;\n",
       "    }\n",
       "\n",
       "    .dataframe tbody tr th {\n",
       "        vertical-align: top;\n",
       "    }\n",
       "\n",
       "    .dataframe thead th {\n",
       "        text-align: right;\n",
       "    }\n",
       "</style>\n",
       "<table border=\"1\" class=\"dataframe\">\n",
       "  <thead>\n",
       "    <tr style=\"text-align: right;\">\n",
       "      <th></th>\n",
       "      <th>Unnamed: 0</th>\n",
       "      <th>Season</th>\n",
       "      <th>Episode</th>\n",
       "      <th>Rating</th>\n",
       "    </tr>\n",
       "  </thead>\n",
       "  <tbody>\n",
       "    <tr>\n",
       "      <th>count</th>\n",
       "      <td>15118.000000</td>\n",
       "      <td>15118.000000</td>\n",
       "      <td>15118.000000</td>\n",
       "      <td>15118.000000</td>\n",
       "    </tr>\n",
       "    <tr>\n",
       "      <th>mean</th>\n",
       "      <td>83.511840</td>\n",
       "      <td>4.719606</td>\n",
       "      <td>15.686268</td>\n",
       "      <td>8.065247</td>\n",
       "    </tr>\n",
       "    <tr>\n",
       "      <th>std</th>\n",
       "      <td>103.019199</td>\n",
       "      <td>5.079538</td>\n",
       "      <td>28.838423</td>\n",
       "      <td>0.768004</td>\n",
       "    </tr>\n",
       "    <tr>\n",
       "      <th>min</th>\n",
       "      <td>0.000000</td>\n",
       "      <td>1.000000</td>\n",
       "      <td>1.000000</td>\n",
       "      <td>2.200000</td>\n",
       "    </tr>\n",
       "    <tr>\n",
       "      <th>25%</th>\n",
       "      <td>18.000000</td>\n",
       "      <td>1.000000</td>\n",
       "      <td>4.000000</td>\n",
       "      <td>7.700000</td>\n",
       "    </tr>\n",
       "    <tr>\n",
       "      <th>50%</th>\n",
       "      <td>49.000000</td>\n",
       "      <td>3.000000</td>\n",
       "      <td>8.000000</td>\n",
       "      <td>8.100000</td>\n",
       "    </tr>\n",
       "    <tr>\n",
       "      <th>75%</th>\n",
       "      <td>113.000000</td>\n",
       "      <td>6.000000</td>\n",
       "      <td>16.000000</td>\n",
       "      <td>8.600000</td>\n",
       "    </tr>\n",
       "    <tr>\n",
       "      <th>max</th>\n",
       "      <td>726.000000</td>\n",
       "      <td>33.000000</td>\n",
       "      <td>291.000000</td>\n",
       "      <td>10.000000</td>\n",
       "    </tr>\n",
       "  </tbody>\n",
       "</table>\n",
       "</div>"
      ],
      "text/plain": [
       "         Unnamed: 0        Season       Episode        Rating\n",
       "count  15118.000000  15118.000000  15118.000000  15118.000000\n",
       "mean      83.511840      4.719606     15.686268      8.065247\n",
       "std      103.019199      5.079538     28.838423      0.768004\n",
       "min        0.000000      1.000000      1.000000      2.200000\n",
       "25%       18.000000      1.000000      4.000000      7.700000\n",
       "50%       49.000000      3.000000      8.000000      8.100000\n",
       "75%      113.000000      6.000000     16.000000      8.600000\n",
       "max      726.000000     33.000000    291.000000     10.000000"
      ]
     },
     "execution_count": 22,
     "metadata": {},
     "output_type": "execute_result"
    }
   ],
   "source": [
    "show_df.describe()"
   ]
  },
  {
   "cell_type": "code",
   "execution_count": 23,
   "id": "573168bd",
   "metadata": {},
   "outputs": [
    {
     "data": {
      "text/plain": [
       "(15118, 6)"
      ]
     },
     "execution_count": 23,
     "metadata": {},
     "output_type": "execute_result"
    }
   ],
   "source": [
    "show_df.shape"
   ]
  },
  {
   "cell_type": "markdown",
   "id": "7237dd06",
   "metadata": {},
   "source": [
    "Check for the null or missing data."
   ]
  },
  {
   "cell_type": "code",
   "execution_count": 21,
   "id": "7feab6ed",
   "metadata": {},
   "outputs": [
    {
     "data": {
      "text/plain": [
       "15118"
      ]
     },
     "execution_count": 21,
     "metadata": {},
     "output_type": "execute_result"
    }
   ],
   "source": [
    "len(show_df.notnull())"
   ]
  },
  {
   "cell_type": "markdown",
   "id": "b1cbe99d",
   "metadata": {},
   "source": [
    "It appears that dataset does not contain any null values"
   ]
  },
  {
   "cell_type": "markdown",
   "id": "7dea9b4b",
   "metadata": {},
   "source": [
    "Let's check are there 250 unique shows just as the data says?"
   ]
  },
  {
   "cell_type": "code",
   "execution_count": 30,
   "id": "ea29fbdd",
   "metadata": {},
   "outputs": [],
   "source": [
    "total_shows = len(show_df['Title'].unique())"
   ]
  },
  {
   "cell_type": "code",
   "execution_count": 31,
   "id": "869f60cc",
   "metadata": {},
   "outputs": [
    {
     "data": {
      "text/plain": [
       "243"
      ]
     },
     "execution_count": 31,
     "metadata": {},
     "output_type": "execute_result"
    }
   ],
   "source": [
    "total_shows"
   ]
  },
  {
   "cell_type": "markdown",
   "id": "09712397",
   "metadata": {},
   "source": [
    "Apparantly there are 243 shows we will conduct our data analysis on these"
   ]
  },
  {
   "cell_type": "markdown",
   "id": "eced9936",
   "metadata": {},
   "source": [
    "Let's get the top rated episodes we will consider top rated episodes those have rating greater than 9.0 Rating."
   ]
  },
  {
   "cell_type": "code",
   "execution_count": 40,
   "id": "883f5b5b",
   "metadata": {},
   "outputs": [],
   "source": [
    "top_rated = show_df['Rating'] > 9"
   ]
  },
  {
   "cell_type": "code",
   "execution_count": 41,
   "id": "6b3d674f",
   "metadata": {
    "scrolled": false
   },
   "outputs": [
    {
     "data": {
      "text/html": [
       "<div>\n",
       "<style scoped>\n",
       "    .dataframe tbody tr th:only-of-type {\n",
       "        vertical-align: middle;\n",
       "    }\n",
       "\n",
       "    .dataframe tbody tr th {\n",
       "        vertical-align: top;\n",
       "    }\n",
       "\n",
       "    .dataframe thead th {\n",
       "        text-align: right;\n",
       "    }\n",
       "</style>\n",
       "<table border=\"1\" class=\"dataframe\">\n",
       "  <thead>\n",
       "    <tr style=\"text-align: right;\">\n",
       "      <th></th>\n",
       "      <th>Unnamed: 0</th>\n",
       "      <th>Season</th>\n",
       "      <th>Episode</th>\n",
       "      <th>Rating</th>\n",
       "      <th>Code</th>\n",
       "      <th>Title</th>\n",
       "    </tr>\n",
       "  </thead>\n",
       "  <tbody>\n",
       "    <tr>\n",
       "      <th>0</th>\n",
       "      <td>0</td>\n",
       "      <td>1</td>\n",
       "      <td>1</td>\n",
       "      <td>9.4</td>\n",
       "      <td>tt5491994</td>\n",
       "      <td>Planet Earth II</td>\n",
       "    </tr>\n",
       "    <tr>\n",
       "      <th>1</th>\n",
       "      <td>1</td>\n",
       "      <td>1</td>\n",
       "      <td>2</td>\n",
       "      <td>9.1</td>\n",
       "      <td>tt5491994</td>\n",
       "      <td>Planet Earth II</td>\n",
       "    </tr>\n",
       "    <tr>\n",
       "      <th>11</th>\n",
       "      <td>5</td>\n",
       "      <td>1</td>\n",
       "      <td>6</td>\n",
       "      <td>9.3</td>\n",
       "      <td>tt0903747</td>\n",
       "      <td>Breaking Bad</td>\n",
       "    </tr>\n",
       "    <tr>\n",
       "      <th>14</th>\n",
       "      <td>8</td>\n",
       "      <td>2</td>\n",
       "      <td>2</td>\n",
       "      <td>9.3</td>\n",
       "      <td>tt0903747</td>\n",
       "      <td>Breaking Bad</td>\n",
       "    </tr>\n",
       "    <tr>\n",
       "      <th>20</th>\n",
       "      <td>14</td>\n",
       "      <td>2</td>\n",
       "      <td>8</td>\n",
       "      <td>9.2</td>\n",
       "      <td>tt0903747</td>\n",
       "      <td>Breaking Bad</td>\n",
       "    </tr>\n",
       "    <tr>\n",
       "      <th>...</th>\n",
       "      <td>...</td>\n",
       "      <td>...</td>\n",
       "      <td>...</td>\n",
       "      <td>...</td>\n",
       "      <td>...</td>\n",
       "      <td>...</td>\n",
       "    </tr>\n",
       "    <tr>\n",
       "      <th>14967</th>\n",
       "      <td>30</td>\n",
       "      <td>1</td>\n",
       "      <td>31</td>\n",
       "      <td>9.5</td>\n",
       "      <td>tt0043208</td>\n",
       "      <td>I Love Lucy</td>\n",
       "    </tr>\n",
       "    <tr>\n",
       "      <th>14973</th>\n",
       "      <td>36</td>\n",
       "      <td>2</td>\n",
       "      <td>1</td>\n",
       "      <td>9.4</td>\n",
       "      <td>tt0043208</td>\n",
       "      <td>I Love Lucy</td>\n",
       "    </tr>\n",
       "    <tr>\n",
       "      <th>15050</th>\n",
       "      <td>113</td>\n",
       "      <td>4</td>\n",
       "      <td>16</td>\n",
       "      <td>9.5</td>\n",
       "      <td>tt0043208</td>\n",
       "      <td>I Love Lucy</td>\n",
       "    </tr>\n",
       "    <tr>\n",
       "      <th>15069</th>\n",
       "      <td>132</td>\n",
       "      <td>5</td>\n",
       "      <td>5</td>\n",
       "      <td>9.1</td>\n",
       "      <td>tt0043208</td>\n",
       "      <td>I Love Lucy</td>\n",
       "    </tr>\n",
       "    <tr>\n",
       "      <th>15087</th>\n",
       "      <td>150</td>\n",
       "      <td>5</td>\n",
       "      <td>23</td>\n",
       "      <td>9.1</td>\n",
       "      <td>tt0043208</td>\n",
       "      <td>I Love Lucy</td>\n",
       "    </tr>\n",
       "  </tbody>\n",
       "</table>\n",
       "<p>1222 rows × 6 columns</p>\n",
       "</div>"
      ],
      "text/plain": [
       "       Unnamed: 0  Season  Episode  Rating       Code            Title\n",
       "0               0       1        1     9.4  tt5491994  Planet Earth II\n",
       "1               1       1        2     9.1  tt5491994  Planet Earth II\n",
       "11              5       1        6     9.3  tt0903747     Breaking Bad\n",
       "14              8       2        2     9.3  tt0903747     Breaking Bad\n",
       "20             14       2        8     9.2  tt0903747     Breaking Bad\n",
       "...           ...     ...      ...     ...        ...              ...\n",
       "14967          30       1       31     9.5  tt0043208      I Love Lucy\n",
       "14973          36       2        1     9.4  tt0043208      I Love Lucy\n",
       "15050         113       4       16     9.5  tt0043208      I Love Lucy\n",
       "15069         132       5        5     9.1  tt0043208      I Love Lucy\n",
       "15087         150       5       23     9.1  tt0043208      I Love Lucy\n",
       "\n",
       "[1222 rows x 6 columns]"
      ]
     },
     "execution_count": 41,
     "metadata": {},
     "output_type": "execute_result"
    }
   ],
   "source": [
    "show_df[top_rated]"
   ]
  },
  {
   "cell_type": "markdown",
   "id": "c7978c6f",
   "metadata": {},
   "source": [
    "Now's let's look at the shows who has top rated episodes and how many "
   ]
  },
  {
   "cell_type": "code",
   "execution_count": 42,
   "id": "d9f31582",
   "metadata": {},
   "outputs": [
    {
     "data": {
      "text/plain": [
       "array(['Planet Earth II', 'Breaking Bad', 'Band of Brothers', 'Chernobyl',\n",
       "       'The Wire', 'Blue Planet II', 'Avatar: The Last Airbender',\n",
       "       'Cosmos: A Spacetime Odyssey', 'The Sopranos', 'Our Planet',\n",
       "       'Cosmos', 'Game of Thrones', 'Rick and Morty', 'The World at War',\n",
       "       'Fullmetal Alchemist: Brotherhood', 'The Last Dance', 'Sherlock',\n",
       "       'The Twilight Zone', 'Batman: The Animated Series',\n",
       "       'Scam 1992: The Harshad Mehta Story', 'Arcane', 'Attack on Titan',\n",
       "       'The Office', 'Firefly', 'Death Note', 'Only Fools and Horses',\n",
       "       'True Detective', 'Hunter x Hunter', 'The Beatles: Get Back',\n",
       "       'Seinfeld', 'Persona', 'Fargo', \"Clarkson's Farm\", 'Cowboy Bebop',\n",
       "       'Better Call Saul', 'Nathan for You', 'Gravity Falls', 'Friends',\n",
       "       'When They See Us', 'Last Week Tonight with John Oliver',\n",
       "       'TVF Pitchers', \"It's Always Sunny in Philadelphia\", 'Das Boot',\n",
       "       'Curb Your Enthusiasm', 'Fawlty Towers', 'The West Wing',\n",
       "       'Freaks and Geeks', 'Leyla and Mecnun', 'Blackadder Goes Forth',\n",
       "       'Twin Peaks', 'Black Mirror', 'Narcos', 'BoJack Horseman',\n",
       "       \"Chappelle's Show\", 'Succession', 'South Park', 'Rome',\n",
       "       'Peaky Blinders', 'Ted Lasso', 'Oz', 'Six Feet Under',\n",
       "       'Over the Garden Wall', 'Kota Factory', 'Dark', 'The Mandalorian',\n",
       "       'As If', 'Arrested Development', 'Steins;Gate', 'One Punch Man',\n",
       "       'The Boys', 'The Simpsons', 'House M.D.', 'Stranger Things',\n",
       "       'The Rehearsal', 'The Shield', 'Battlestar Galactica', 'Fleabag',\n",
       "       'Downton Abbey', 'Invincible', 'Mad Men', 'Vinland Saga', 'Gullak',\n",
       "       'House of Cards', 'Sarabhai V/S Sarabhai',\n",
       "       'The Marvelous Mrs. Maisel', 'The Crown',\n",
       "       'Star Trek: The Next Generation', 'Severance', 'Panchayat',\n",
       "       'Peep Show', 'Friday Night Lights', 'Top Gear', 'Berserk',\n",
       "       'The Grand Tour', '1883', 'Line of Duty',\n",
       "       'Justice League Unlimited', 'Deadwood', 'Dexter', 'The X-Files',\n",
       "       'Parks and Recreation',\n",
       "       'The Jinx: The Life and Deaths of Robert Durst', 'Father Ted',\n",
       "       'Aspirants', 'This Is Us', 'Demon Slayer: Kimetsu no Yaiba',\n",
       "       'Code Geass', 'Daredevil', 'Atlanta', 'Heartstopper',\n",
       "       'Behzat Ç.: Bir Ankara Polisiyesi', \"It's a Sin\", 'Young Justice',\n",
       "       'Primal', 'Gomorrah', 'Mindhunter', 'Yellowstone',\n",
       "       'Adventure Time', 'Haikyu!!', 'Monster', 'Yeh Meri Family',\n",
       "       'Anne with an E', 'Ramayan', 'Justified', 'Boardwalk Empire',\n",
       "       'The Haunting of Hill House', 'The Eric Andre Show',\n",
       "       \"The Queen's Gambit\", 'Formula 1: Drive to Survive',\n",
       "       'The Newsroom', 'Impractical Jokers', 'Justice League',\n",
       "       'Crash Landing on You', 'Coupling', 'Homicide: Life on the Street',\n",
       "       'Westworld', 'The Venture Bros.', 'The Family Man',\n",
       "       'What We Do in the Shadows', 'The IT Crowd', 'Samurai Champloo',\n",
       "       'Pose', 'Louie', 'Mr. Robot', 'Yes, Prime Minister', 'Black Sun',\n",
       "       'Whose Line Is It Anyway?', 'Letterkenny', 'Shameless',\n",
       "       'Spartacus', 'Cobra Kai', 'Samurai Jack', 'Jujutsu Kaisen', 'Skam',\n",
       "       'Sons of Anarchy', 'Brass Eye', 'Spartacus: Gods of the Arena',\n",
       "       'Neon Genesis Evangelion', 'Silicon Valley', 'Ezel',\n",
       "       'Trailer Park Boys', 'Doctor Who', 'Endeavour', 'Detectorists',\n",
       "       'Futurama', 'Rurouni Kenshin: Trust and Betrayal',\n",
       "       'Mob Psycho 100', 'Hannibal', 'Community', 'Umbre', 'The Expanse',\n",
       "       \"Schitt's Creek\", \"Chef's Table\", 'The Night Of', 'Regular Show',\n",
       "       'Mr Inbetween', 'Big Little Lies', 'The Knick',\n",
       "       'Your Lie in April', 'Wentworth', 'The Punisher', 'Southland',\n",
       "       'Content Cop', 'Mare of Easttown', 'Erased', 'Gintama',\n",
       "       'Queer Eye', 'Clannad: After Story', 'I Love Lucy'], dtype=object)"
      ]
     },
     "execution_count": 42,
     "metadata": {},
     "output_type": "execute_result"
    }
   ],
   "source": [
    "show_df[top_rated]['Title'].unique()"
   ]
  },
  {
   "cell_type": "code",
   "execution_count": 43,
   "id": "25dd3a58",
   "metadata": {},
   "outputs": [],
   "source": [
    "shows_over9 = len(show_df[top_rated]['Title'].unique())"
   ]
  },
  {
   "cell_type": "code",
   "execution_count": 44,
   "id": "7d8ea202",
   "metadata": {
    "scrolled": true
   },
   "outputs": [
    {
     "data": {
      "text/plain": [
       "189"
      ]
     },
     "execution_count": 44,
     "metadata": {},
     "output_type": "execute_result"
    }
   ],
   "source": [
    "shows_over9"
   ]
  },
  {
   "cell_type": "code",
   "execution_count": 60,
   "id": "787979f5",
   "metadata": {},
   "outputs": [],
   "source": [
    "over9 = shows_over9 / total_shows * 100"
   ]
  },
  {
   "cell_type": "code",
   "execution_count": 47,
   "id": "9f23c6c6",
   "metadata": {},
   "outputs": [
    {
     "data": {
      "text/plain": [
       "8.083079772456674"
      ]
     },
     "execution_count": 47,
     "metadata": {},
     "output_type": "execute_result"
    }
   ],
   "source": [
    "1222 / 15118 * 100"
   ]
  },
  {
   "cell_type": "markdown",
   "id": "9fbf94b0",
   "metadata": {},
   "source": [
    "Apparantly 77.77% shows have at least 1 or more episode which has a rating greater than 9.0. <br>\n",
    "There 1222 episodes out of  15118 those have rating above 9.0 which is 8.08% of the total episodes.<br>\n",
    "Let's Visualize this data in forms of Pie charts."
   ]
  },
  {
   "cell_type": "code",
   "execution_count": 70,
   "id": "62420f4f",
   "metadata": {},
   "outputs": [],
   "source": [
    "slices = [over9, 100 - over9]\n",
    "labels = ['Shows above nine', 'Shows below nine']\n",
    "colors = ['cyan', 'pink']"
   ]
  },
  {
   "cell_type": "code",
   "execution_count": 71,
   "id": "b1c7ec8b",
   "metadata": {},
   "outputs": [
    {
     "data": {
      "text/plain": [
       "Text(0.5, 1.0, 'Shows which have at least one episode over Rating 9')"
      ]
     },
     "execution_count": 71,
     "metadata": {},
     "output_type": "execute_result"
    },
    {
     "data": {
      "image/png": "[encoded data removed]",
      "text/plain": [
       "<Figure size 432x288 with 1 Axes>"
      ]
     },
     "metadata": {},
     "output_type": "display_data"
    }
   ],
   "source": [
    "fig, ax = plt.subplots()\n",
    "ax.pie(slices, labels = labels,autopct='%1.1f%%',colors = colors, wedgeprops = {'edgecolor' : 'black'})\n",
    "plt.title('Shows which have at least one episode over Rating 9')"
   ]
  },
  {
   "cell_type": "code",
   "execution_count": null,
   "id": "cecb815d",
   "metadata": {},
   "outputs": [],
   "source": []
  }
 ],
 "metadata": {
  "kernelspec": {
   "display_name": "Python 3 (ipykernel)",
   "language": "python",
   "name": "python3"
  },
  "language_info": {
   "codemirror_mode": {
    "name": "ipython",
    "version": 3
   },
   "file_extension": ".py",
   "mimetype": "text/x-python",
   "name": "python",
   "nbconvert_exporter": "python",
   "pygments_lexer": "ipython3",
   "version": "3.9.12"
  }
 },
 "nbformat": 4,
 "nbformat_minor": 5
}
